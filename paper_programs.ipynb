{
 "cells": [
  {
   "cell_type": "code",
   "execution_count": 2,
   "id": "a399b25b",
   "metadata": {},
   "outputs": [
    {
     "name": "stdout",
     "output_type": "stream",
     "text": [
      "Selected for second level\n"
     ]
    }
   ],
   "source": [
    "marks1 = int(input(\"Enter your marks in Logical Aptitude (out of 50): \"))\n",
    "marks2 = int(input(\"Enter your marks in Analytical Ability (out of 50): \"))\n",
    "if marks1>=35 and marks2>=40:\n",
    "    print(\"Selected for second level\")\n",
    "else:\n",
    "    print(\"Not selected for second level\")\n"
   ]
  }
 ],
 "metadata": {
  "kernelspec": {
   "display_name": "base",
   "language": "python",
   "name": "python3"
  },
  "language_info": {
   "codemirror_mode": {
    "name": "ipython",
    "version": 3
   },
   "file_extension": ".py",
   "mimetype": "text/x-python",
   "name": "python",
   "nbconvert_exporter": "python",
   "pygments_lexer": "ipython3",
   "version": "3.12.4"
  }
 },
 "nbformat": 4,
 "nbformat_minor": 5
}
