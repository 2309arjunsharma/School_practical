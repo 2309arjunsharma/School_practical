{
 "cells": [
  {
   "cell_type": "code",
   "execution_count": null,
   "id": "a399b25b",
   "metadata": {},
   "outputs": [],
   "source": [
    "marks1 = int(input(\"Enter your marks in Logical Aptitude (out of 50): \"))\n",
    "marks2 = int(input(\"Enter your marks in Analytical Ability (out of 50): \"))\n",
    "if marks1>=35 and marks2>=40:\n",
    "    print(\"Selected for second level\")\n",
    "else:\n",
    "    print(\"Not selected for second level\")\n"
   ]
  }
 ],
 "metadata": {
  "kernelspec": {
   "display_name": "base",
   "language": "python",
   "name": "python3"
  },
  "language_info": {
   "name": "python",
   "version": "3.12.4"
  }
 },
 "nbformat": 4,
 "nbformat_minor": 5
}
