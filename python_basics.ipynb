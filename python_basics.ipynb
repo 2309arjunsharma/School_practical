{
 "cells": [
  {
   "cell_type": "code",
   "execution_count": 137,
   "id": "339c933f",
   "metadata": {},
   "outputs": [
    {
     "name": "stdout",
     "output_type": "stream",
     "text": [
      "14 \n",
      " -4 \n",
      " 45 \n",
      " 0.5555555555555556 \n",
      " 0 \n",
      " 5 \n",
      " 1953125\n"
     ]
    }
   ],
   "source": [
    "a = 5\n",
    "b = 9\n",
    "print(a+b,\"\\n\",  a-b,\"\\n\", a*b,\"\\n\", a/b,\"\\n\", a//b,\"\\n\", a%b,\"\\n\", a**b)"
   ]
  },
  {
   "cell_type": "code",
   "execution_count": 138,
   "id": "87eb4f6c",
   "metadata": {},
   "outputs": [
    {
     "name": "stdout",
     "output_type": "stream",
     "text": [
      "Arjun Sharma\n"
     ]
    }
   ],
   "source": [
    "print(\"Arjun \"+\"Sharma\")"
   ]
  },
  {
   "cell_type": "code",
   "execution_count": 139,
   "id": "30b38133",
   "metadata": {},
   "outputs": [
    {
     "name": "stdout",
     "output_type": "stream",
     "text": [
      "Smile Smile Smile \n"
     ]
    }
   ],
   "source": [
    "x = \"Smile \"\n",
    "print(x*3)"
   ]
  },
  {
   "cell_type": "code",
   "execution_count": 140,
   "id": "cf1af3ff",
   "metadata": {},
   "outputs": [
    {
     "name": "stdout",
     "output_type": "stream",
     "text": [
      "8G\n",
      "8\tG\n",
      "8\n",
      "G\n",
      "8 G\n"
     ]
    }
   ],
   "source": [
    "print(\"8G\")\n",
    "print(\"8\\tG\")\n",
    "print(\"8\\nG\")\n",
    "print(\"8\",\"G\")\n"
   ]
  },
  {
   "cell_type": "code",
   "execution_count": 141,
   "id": "6e04c134",
   "metadata": {},
   "outputs": [
    {
     "name": "stdout",
     "output_type": "stream",
     "text": [
      "True\n"
     ]
    }
   ],
   "source": [
    "a=3\n",
    "if not a<=2:\n",
    "    print(True)"
   ]
  },
  {
   "cell_type": "code",
   "execution_count": 142,
   "id": "51565271",
   "metadata": {},
   "outputs": [
    {
     "name": "stdout",
     "output_type": "stream",
     "text": [
      "True\n"
     ]
    }
   ],
   "source": [
    "a=3\n",
    "if a==2 or a>=2:\n",
    "    print(True)"
   ]
  },
  {
   "cell_type": "code",
   "execution_count": null,
   "id": "6f77b66f",
   "metadata": {},
   "outputs": [
    {
     "name": "stdout",
     "output_type": "stream",
     "text": [
      "True\n"
     ]
    }
   ],
   "source": [
    "a=3\n",
    "if a==3 and a>=2:\n",
    "    print(True)"
   ]
  }
 ],
 "metadata": {
  "kernelspec": {
   "display_name": "base",
   "language": "python",
   "name": "python3"
  },
  "language_info": {
   "codemirror_mode": {
    "name": "ipython",
    "version": 3
   },
   "file_extension": ".py",
   "mimetype": "text/x-python",
   "name": "python",
   "nbconvert_exporter": "python",
   "pygments_lexer": "ipython3",
   "version": "3.12.4"
  }
 },
 "nbformat": 4,
 "nbformat_minor": 5
}
