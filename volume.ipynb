{
 "cells": [
  {
   "cell_type": "markdown",
   "id": "0d972ec6",
   "metadata": {},
   "source": [
    "## Cuboid"
   ]
  },
  {
   "cell_type": "code",
   "execution_count": 5,
   "id": "b246bf7f",
   "metadata": {},
   "outputs": [
    {
     "name": "stdout",
     "output_type": "stream",
     "text": [
      "Volume of cuboid is 3240.0cm³\n"
     ]
    }
   ],
   "source": [
    "l = float(input(\"Enter length: \"))\n",
    "b = float(input(\"Enter breadth: \"))\n",
    "h = float(input(\"Enter height: \"))\n",
    "v = l*b*h\n",
    "print(f\"Volume of cuboid is {v}cm³\")"
   ]
  },
  {
   "cell_type": "markdown",
   "id": "9b9625fd",
   "metadata": {},
   "source": [
    "## Cube"
   ]
  },
  {
   "cell_type": "code",
   "execution_count": 18,
   "id": "0672c236",
   "metadata": {},
   "outputs": [
    {
     "name": "stdout",
     "output_type": "stream",
     "text": [
      "Volume of cube is 1000.0cm³\n"
     ]
    }
   ],
   "source": [
    "s = float(input(\"Enter side: \"))\n",
    "v = s**3\n",
    "print(f\"Volume of cube is {v}cm³\")"
   ]
  },
  {
   "cell_type": "markdown",
   "id": "1ee4fc86",
   "metadata": {},
   "source": [
    "## Right-Cylinder "
   ]
  },
  {
   "cell_type": "code",
   "execution_count": 25,
   "id": "7984212f",
   "metadata": {},
   "outputs": [
    {
     "name": "stdout",
     "output_type": "stream",
     "text": [
      "Volume of cube is 3768.0cm³\n"
     ]
    }
   ],
   "source": [
    "r = float(input(\"Enter radius: \"))\n",
    "pi = 3.14\n",
    "h = float(input(\"Enter height: \"))\n",
    "v = pi*(r**2)*h\n",
    "print(f\"Volume of cube is {v}cm³\")"
   ]
  },
  {
   "cell_type": "markdown",
   "id": "bbaad7a3",
   "metadata": {},
   "source": [
    "## Hollow Cylinder"
   ]
  },
  {
   "cell_type": "code",
   "execution_count": null,
   "id": "f4bb2a62",
   "metadata": {},
   "outputs": [
    {
     "name": "stdout",
     "output_type": "stream",
     "text": [
      "Volume of cube is 3140.0cm³\n"
     ]
    }
   ],
   "source": [
    "R = float(input(\"Enter larger radius: \"))\n",
    "r = float(input(\"Enter smaller radius: \"))\n",
    "pi = 3.14\n",
    "h = float(input(\"Enter height: \"))\n",
    "v = pi*h*(R**2-r**2)\n",
    "print(f\"Volume of cube is {v}cm³\")"
   ]
  }
 ],
 "metadata": {
  "kernelspec": {
   "display_name": "base",
   "language": "python",
   "name": "python3"
  },
  "language_info": {
   "codemirror_mode": {
    "name": "ipython",
    "version": 3
   },
   "file_extension": ".py",
   "mimetype": "text/x-python",
   "name": "python",
   "nbconvert_exporter": "python",
   "pygments_lexer": "ipython3",
   "version": "3.12.4"
  }
 },
 "nbformat": 4,
 "nbformat_minor": 5
}
