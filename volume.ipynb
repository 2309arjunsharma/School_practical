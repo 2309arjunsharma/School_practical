{
 "cells": [
  {
   "cell_type": "markdown",
   "id": "0d972ec6",
   "metadata": {},
   "source": [
    "### Cuboid"
   ]
  },
  {
   "cell_type": "code",
   "execution_count": null,
   "id": "b246bf7f",
   "metadata": {},
   "outputs": [],
   "source": [
    "l = float(input(\"Enter length: \"))\n",
    "b = float(input(\"Enter breadth: \"))\n",
    "h = float(input(\"Enter height: \"))\n",
    "v = l*b*h\n",
    "print(f\"Volume of cuboid is {v}cm³\")"
   ]
  }
 ],
 "metadata": {
  "kernelspec": {
   "display_name": "base",
   "language": "python",
   "name": "python3"
  },
  "language_info": {
   "codemirror_mode": {
    "name": "ipython",
    "version": 3
   },
   "file_extension": ".py",
   "mimetype": "text/x-python",
   "name": "python",
   "nbconvert_exporter": "python",
   "pygments_lexer": "ipython3",
   "version": "3.12.4"
  }
 },
 "nbformat": 4,
 "nbformat_minor": 5
}
