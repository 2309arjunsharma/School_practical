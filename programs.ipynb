{
 "cells": [
  {
   "cell_type": "markdown",
   "id": "4f88f991",
   "metadata": {},
   "source": [
    "# __Hands on Practice questions__"
   ]
  },
  {
   "cell_type": "markdown",
   "id": "b6b967b5",
   "metadata": {},
   "source": [
    "__Q1. Write a program to accept the side of a rectangle and calculate and\n",
    "display its area and perimeter.__"
   ]
  },
  {
   "cell_type": "code",
   "execution_count": 25,
   "id": "3f80e5e8",
   "metadata": {},
   "outputs": [
    {
     "name": "stdout",
     "output_type": "stream",
     "text": [
      "Perimeter of rectangle is  493827156.0 and area is  1.524157875019052e+16\n"
     ]
    }
   ],
   "source": [
    "l = float(input(\"Enter length of rectangle: \"))\n",
    "b = float(input(\"Enter breadth of rectangle: \"))\n",
    "a = l*b\n",
    "p = 2*(l+b)\n",
    "print(\"Perimeter of rectangle is \",p,\"and area is \",a)\n"
   ]
  },
  {
   "cell_type": "markdown",
   "id": "0492e7d0",
   "metadata": {},
   "source": [
    "__Q2. Write a program to accept two numbers and display its sum, product, difference, remainder,\n",
    "exponentiation and quotient.__"
   ]
  },
  {
   "cell_type": "code",
   "execution_count": 28,
   "id": "1b894bb7",
   "metadata": {},
   "outputs": [
    {
     "name": "stdout",
     "output_type": "stream",
     "text": [
      "Sum: 126.0 , Product: 369.0 , Difference: 120.0 , Remainder: 0.0 , Exponentiation: 1860867.0 , Quotient: 41.0\n"
     ]
    }
   ],
   "source": [
    "a = float(input(\"Enter number: \"))\n",
    "b = float(input(\"Enter number: \"))\n",
    "print(\"Sum:\",a+b,\", Product:\",a*b,\", Difference:\",a-b,\", Remainder:\",a%b,\", Exponentiation:\",a**b,\", Quotient:\",a/b)"
   ]
  },
  {
   "cell_type": "markdown",
   "id": "bae97681",
   "metadata": {},
   "source": [
    "__Q3. Write a program to accept price and units sold. Calculate and display:__\n",
    "- __a. Total amount=Price X Units sold__\n",
    "- __b. Discount=10% of Total Amount__\n",
    "- __c. Net Amount Payable= Total Amount-Discount__"
   ]
  },
  {
   "cell_type": "code",
   "execution_count": null,
   "id": "3c86d056",
   "metadata": {},
   "outputs": [
    {
     "name": "stdout",
     "output_type": "stream",
     "text": [
      "Your total amount is 250000.0\n",
      "You have to pay Rs. 225000.0\n"
     ]
    }
   ],
   "source": [
    "cp = float(input(\"Enter price of item: \"))\n",
    "us = int(input(\"No. of units sold: \"))\n",
    "ta = cp*us\n",
    "print(\"Your total amount is\",ta)\n",
    "dis = (10/100)*ta\n",
    "sp = ta-dis\n",
    "print(\"You have to pay Rs.\",sp)"
   ]
  },
  {
   "cell_type": "markdown",
   "id": "13f81a98",
   "metadata": {},
   "source": [
    "__Q4. Write a program to check whether a person is eligible to vote or not after accepting age.__\n"
   ]
  },
  {
   "cell_type": "code",
   "execution_count": null,
   "id": "3a2ec14a",
   "metadata": {},
   "outputs": [
    {
     "name": "stdout",
     "output_type": "stream",
     "text": [
      "You are eligible to vote\n"
     ]
    }
   ],
   "source": [
    "age = int(input(\"Enter your age: \"))\n",
    "if age>=18:\n",
    "    print(\"You are eligible to vote\")\n",
    "else:\n",
    "    print(\"You cannot vote\")"
   ]
  },
  {
   "cell_type": "markdown",
   "id": "64505332",
   "metadata": {},
   "source": [
    "__Q5. Write a program to accept two numbers and display the greater of the two numbers.__"
   ]
  },
  {
   "cell_type": "code",
   "execution_count": null,
   "id": "823d6ee5",
   "metadata": {},
   "outputs": [
    {
     "name": "stdout",
     "output_type": "stream",
     "text": [
      "777.77777777771 is greater than 777.7777777777\n"
     ]
    }
   ],
   "source": [
    "num1 = float(input(\"Enter a number: \"))\n",
    "num2 = float(input(\"Enter a number: \"))\n",
    "if num1>num2:\n",
    "    print(num1,\"is greater than\",num2)\n",
    "if num2>num1:\n",
    "    print(num2,\"is greater than\",num1)"
   ]
  },
  {
   "cell_type": "markdown",
   "id": "e1cac58d",
   "metadata": {},
   "source": [
    "__Q6. Write a program to check whether a number accepted from the user is odd or even.__\n"
   ]
  },
  {
   "cell_type": "code",
   "execution_count": null,
   "id": "260a2581",
   "metadata": {},
   "outputs": [
    {
     "name": "stdout",
     "output_type": "stream",
     "text": [
      "77.77 is odd\n"
     ]
    }
   ],
   "source": [
    "num = float(input(\"Enter a number: \"))\n",
    "if num%2==0:\n",
    "    print(num,\"is even\")\n",
    "else:\n",
    "    print(num,\"is odd\")"
   ]
  },
  {
   "cell_type": "markdown",
   "id": "810eecf0",
   "metadata": {},
   "source": [
    "__Q7. Write a program to accept two numbers and display the greater of the two numbers, else display\n",
    "the numbers are equal.__"
   ]
  },
  {
   "cell_type": "code",
   "execution_count": 29,
   "id": "2202f845",
   "metadata": {},
   "outputs": [
    {
     "name": "stdout",
     "output_type": "stream",
     "text": [
      "123.0 is equal to 123.0\n"
     ]
    }
   ],
   "source": [
    "num1 = float(input(\"Enter a number: \"))\n",
    "num2 = float(input(\"Enter a number: \"))\n",
    "if num1>num2:\n",
    "    print(num1,\"is greater than\",num2)\n",
    "elif num2>num1:\n",
    "    print(num2,\"is greater than\",num1)\n",
    "else:\n",
    "    print(num2,\"is equal to\",num1)"
   ]
  },
  {
   "cell_type": "markdown",
   "id": "2937670d",
   "metadata": {},
   "source": [
    "__Q8. Write a program to accept the day of the week and display day name (1=Sunday, 2=Monday..)__"
   ]
  },
  {
   "cell_type": "code",
   "execution_count": 30,
   "id": "b40aed0f",
   "metadata": {},
   "outputs": [
    {
     "name": "stdout",
     "output_type": "stream",
     "text": [
      "Day of the week is: Thursday\n"
     ]
    }
   ],
   "source": [
    "day = int(input(\"Enter a number (1-7) for the day of the week: \"))\n",
    "if day == 1:\n",
    "    print(\"Day of the week is: Sunday\")\n",
    "elif day == 2:\n",
    "    print(\"Day of the week is: Monday\")\n",
    "elif day == 3:\n",
    "    print(\"Day of the week is: Tuesday\")\n",
    "elif day == 4:\n",
    "    print(\"Day of the week is: Wednesday\")\n",
    "elif day == 5:\n",
    "    print(\"Day of the week is: Thursday\")\n",
    "elif day == 6:\n",
    "    print(\"Day of the week is: Friday\")\n",
    "elif day == 7:\n",
    "    print(\"Day of the week is: Saturday\")\n",
    "else:\n",
    "    print(\"Invalid input! Please enter a number between 1 and 7.\")"
   ]
  },
  {
   "cell_type": "markdown",
   "id": "69cf3a1f",
   "metadata": {},
   "source": [
    "__Q9.Write a program to accept price and units sold. Calculate and display:__\n",
    "- __a. Total Amount=Price x Quantity__\n",
    "- __b. Discount to be calculated on the basis of following criteria:__\n",
    "- __>=15000 =  15% of Total amount__\n",
    "- __>=10000 but <15000 = 10% of Total amount__\n",
    "- __>=5000 but <10000 = 5% of Total amount__\n",
    "- __<5000 = 2.5% of Total amount__"
   ]
  },
  {
   "cell_type": "code",
   "execution_count": 32,
   "id": "79334ec4",
   "metadata": {},
   "outputs": [
    {
     "name": "stdout",
     "output_type": "stream",
     "text": [
      "Your total amount is 8990.0\n",
      "Discount is 449.5\n"
     ]
    }
   ],
   "source": [
    "cp = float(input(\"Enter price of item: \"))\n",
    "us = int(input(\"No. of units sold: \"))\n",
    "ta = cp*us\n",
    "print(\"Your total amount is\",ta)\n",
    "if ta >=15000:\n",
    "    dis = (15/100)*ta\n",
    "    print(\"Discount is\",dis)\n",
    "elif ta >=10000 and ta<15000:\n",
    "    dis = (10/100)*ta\n",
    "    print(\"Discount is\",dis)\n",
    "elif ta >=5000 and ta<10000:\n",
    "    dis = (5/100)*ta\n",
    "    print(\"Discount is\",dis)\n",
    "else:\n",
    "    dis = (2.5/100)*ta\n",
    "    print(\"Discount is\",dis)"
   ]
  },
  {
   "cell_type": "markdown",
   "id": "b1d3e157",
   "metadata": {},
   "source": [
    "__Q10. Write a program to display grade based on the following criteria:__\n",
    "- __>=90 = A__\n",
    "- __>=80 and <90 = B__\n",
    "- __>=70 and <80 = C__\n",
    "- __<70 = D__"
   ]
  }
 ],
 "metadata": {
  "kernelspec": {
   "display_name": "base",
   "language": "python",
   "name": "python3"
  },
  "language_info": {
   "codemirror_mode": {
    "name": "ipython",
    "version": 3
   },
   "file_extension": ".py",
   "mimetype": "text/x-python",
   "name": "python",
   "nbconvert_exporter": "python",
   "pygments_lexer": "ipython3",
   "version": "3.12.4"
  }
 },
 "nbformat": 4,
 "nbformat_minor": 5
}
