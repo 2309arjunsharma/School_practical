{
 "cells": [
  {
   "cell_type": "markdown",
   "id": "4f88f991",
   "metadata": {},
   "source": [
    "# __Hands on Practice questions__"
   ]
  },
  {
   "cell_type": "markdown",
   "id": "b6b967b5",
   "metadata": {},
   "source": [
    "__Q1. Write a program to accept the side of a rectangle and calculate and\n",
    "display its area and perimeter.__"
   ]
  }
 ],
 "metadata": {
  "kernelspec": {
   "display_name": "base",
   "language": "python",
   "name": "python3"
  },
  "language_info": {
   "name": "python",
   "version": "3.12.4"
  }
 },
 "nbformat": 4,
 "nbformat_minor": 5
}
