{
 "cells": [
  {
   "cell_type": "markdown",
   "id": "4f88f991",
   "metadata": {},
   "source": [
    "# __Hands on Practice questions__"
   ]
  },
  {
   "cell_type": "markdown",
   "id": "b6b967b5",
   "metadata": {},
   "source": [
    "__Q1. Write a program to accept the side of a rectangle and calculate and\n",
    "display its area and perimeter.__"
   ]
  },
  {
   "cell_type": "code",
   "execution_count": 5,
   "id": "3f80e5e8",
   "metadata": {},
   "outputs": [
    {
     "name": "stdout",
     "output_type": "stream",
     "text": [
      "Perimeter of rectangle is  4938.271577530864 and area is  1524157.885840573\n"
     ]
    }
   ],
   "source": [
    "l = float(input(\"Enter length of rectangle: \"))\n",
    "b = float(input(\"Enter breadth of rectangle: \"))\n",
    "a = l*b\n",
    "p = 2*(l+b)\n",
    "print(\"Perimeter of rectangle is \",p,\"and area is \",a)\n"
   ]
  },
  {
   "cell_type": "markdown",
   "id": "0492e7d0",
   "metadata": {},
   "source": [
    "__Q2. Write a program to accept two numbers and display its sum, product, difference, remainder,\n",
    "exponentiation and quotient.__"
   ]
  }
 ],
 "metadata": {
  "kernelspec": {
   "display_name": "base",
   "language": "python",
   "name": "python3"
  },
  "language_info": {
   "codemirror_mode": {
    "name": "ipython",
    "version": 3
   },
   "file_extension": ".py",
   "mimetype": "text/x-python",
   "name": "python",
   "nbconvert_exporter": "python",
   "pygments_lexer": "ipython3",
   "version": "3.12.4"
  }
 },
 "nbformat": 4,
 "nbformat_minor": 5
}
