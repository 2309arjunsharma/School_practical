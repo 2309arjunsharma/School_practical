{
 "cells": [
  {
   "cell_type": "code",
   "execution_count": null,
   "id": "4ecc6390",
   "metadata": {},
   "outputs": [],
   "source": [
    "num = int(input(\"Enter a number: \"))\n",
    "if num>1:\n",
    "     for i in range(2,num):\n",
    "          if num%i==0:\n",
    "               print(f\"{num} is not a prime number\")\n",
    "               break\n",
    "          else:\n",
    "               print(f\"{num} is a prime number\")\n",
    "               break\n",
    "else:\n",
    "     print(f\"{num} is a prime number\")\n",
    "            "
   ]
  }
 ],
 "metadata": {
  "language_info": {
   "name": "python"
  }
 },
 "nbformat": 4,
 "nbformat_minor": 5
}
