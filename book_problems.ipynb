{
 "cells": [
  {
   "cell_type": "code",
   "execution_count": null,
   "id": "d287953c",
   "metadata": {},
   "outputs": [
    {
     "name": "stdout",
     "output_type": "stream",
     "text": [
      "Simple Interest for 10 years is 156250.0 and Amount is 281250.0\n"
     ]
    }
   ],
   "source": [
    "P = float(input(\"Enter principal: \"))\n",
    "R = float(input(\"Enter rate: \"))\n",
    "T = float(input(\"Enter time (in years): \"))\n",
    "SI = (P*R*T)/100\n",
    "A = SI+P\n",
    "print(\"Simple Interest for\",T,\"years is\",SI,\"and Amount is\",A)"
   ]
  },
  {
   "cell_type": "code",
   "execution_count": null,
   "id": "5ad95f73",
   "metadata": {},
   "outputs": [
    {
     "name": "stdout",
     "output_type": "stream",
     "text": [
      "Compound Interest for 3 years is 303.01000000000204 and Amount is 10303.010000000002\n"
     ]
    }
   ],
   "source": [
    "P = int(input(\"Enter principal: \"))\n",
    "R = int(input(\"Enter rate: \"))\n",
    "T = int(input(\"Enter time (in years): \"))\n",
    "A1 = P*(1+(R/100))**T\n",
    "CI = A1-P\n",
    "print(\"Compound Interest for\",T,\"years is\",CI,\"and Amount is\",A1)"
   ]
  },
  {
   "cell_type": "code",
   "execution_count": 37,
   "id": "cebede7c",
   "metadata": {},
   "outputs": [
    {
     "name": "stdout",
     "output_type": "stream",
     "text": [
      "You have $120.0\n"
     ]
    }
   ],
   "source": [
    "inr = int(input(\"Enter the money (In Rs.): \"))\n",
    "usd = inr*0.015\n",
    "print(f\"You have ${usd}\")"
   ]
  },
  {
   "cell_type": "code",
   "execution_count": 46,
   "id": "07814de9",
   "metadata": {},
   "outputs": [
    {
     "name": "stdout",
     "output_type": "stream",
     "text": [
      "You have Rs.87640000.0\n"
     ]
    }
   ],
   "source": [
    "usd = int(input(\"Enter the money (In $): \"))\n",
    "inr = usd*87.64\n",
    "print(f\"You have Rs.{inr}\")"
   ]
  },
  {
   "cell_type": "code",
   "execution_count": 9,
   "id": "cec75439",
   "metadata": {},
   "outputs": [
    {
     "name": "stdout",
     "output_type": "stream",
     "text": [
      "You have scored 80.85714285714286%\n",
      "Grade B+\n"
     ]
    }
   ],
   "source": [
    "m1 = float(input(\"Enter marks in English (out of 100): \"))\n",
    "m2 = float(input(\"Enter marks in Hindi (out of 100): \"))\n",
    "m3 = float(input(\"Enter marks in Maths (out of 100): \"))\n",
    "m4 = float(input(\"Enter marks in Science (out of 100): \"))\n",
    "m5 = float(input(\"Enter marks in SST (out of 100): \"))\n",
    "m6 = float(input(\"Enter marks in Computers (out of 100): \"))\n",
    "m7 = float(input(\"Enter marks in Spanish (out of 100): \"))\n",
    "avg = (m1+m2+m3+m4+m5+m6+m7)/7\n",
    "if avg>=95:\n",
    "    print(f\"You have scored {avg}%\")\n",
    "    print(\"Grade A+\")\n",
    "elif avg>=90:\n",
    "    print(f\"You have scored {avg}%\")\n",
    "    print(\"Grade A\")\n",
    "elif avg>=80:\n",
    "    print(f\"You have scored {avg}%\")\n",
    "    print(\"Grade B+\")\n",
    "elif avg>=70:\n",
    "    print(f\"You have scored {avg}%\")\n",
    "    print(\"Grade B\")\n",
    "elif avg>=60:\n",
    "    print(f\"You have scored {avg}%\")\n",
    "    print(\"Grade C+\")\n",
    "elif avg>=50:\n",
    "    print(f\"You have scored {avg}%\")\n",
    "    print(\"Grade C\")\n",
    "elif avg>=40:\n",
    "    print(f\"You have scored {avg}%\")\n",
    "    print(\"Grade D\")\n",
    "elif avg>33:\n",
    "    print(f\"You have scored {avg}%\")\n",
    "    print(\"Grade E\")\n",
    "else:\n",
    "    print(f\"You have scored {avg}%\")\n",
    "    print(\"YOU ARE A FAIL!!\")"
   ]
  },
  {
   "cell_type": "code",
   "execution_count": 1,
   "id": "ccfc0eed",
   "metadata": {},
   "outputs": [
    {
     "name": "stdout",
     "output_type": "stream",
     "text": [
      "7\n",
      "14\n",
      "21\n",
      "28\n",
      "35\n",
      "42\n",
      "49\n",
      "56\n",
      "63\n",
      "70\n",
      "77\n",
      "84\n",
      "91\n",
      "98\n",
      "105\n",
      "112\n",
      "119\n",
      "18\n",
      "126\n",
      "133\n",
      "140\n",
      "147\n",
      "154\n",
      "161\n",
      "168\n",
      "175\n",
      "182\n",
      "189\n",
      "196\n",
      "203\n",
      "210\n",
      "217\n",
      "224\n",
      "231\n",
      "238\n",
      "245\n",
      "36\n",
      "252\n",
      "259\n",
      "266\n",
      "273\n",
      "280\n",
      "287\n",
      "294\n",
      "301\n",
      "308\n",
      "315\n",
      "322\n",
      "329\n",
      "336\n",
      "343\n",
      "350\n"
     ]
    }
   ],
   "source": [
    "for i in range(1,51):\n",
    "    if(i%9==0 and i%2==0):\n",
    "        print(i)\n",
    "    print(i*7)"
   ]
  }
 ],
 "metadata": {
  "kernelspec": {
   "display_name": "base",
   "language": "python",
   "name": "python3"
  },
  "language_info": {
   "codemirror_mode": {
    "name": "ipython",
    "version": 3
   },
   "file_extension": ".py",
   "mimetype": "text/x-python",
   "name": "python",
   "nbconvert_exporter": "python",
   "pygments_lexer": "ipython3",
   "version": "3.12.4"
  }
 },
 "nbformat": 4,
 "nbformat_minor": 5
}
