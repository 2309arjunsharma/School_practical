{
 "cells": [
  {
   "cell_type": "code",
   "execution_count": null,
   "id": "d287953c",
   "metadata": {},
   "outputs": [
    {
     "name": "stdout",
     "output_type": "stream",
     "text": [
      "Simple Interest for 10 years is 156250.0 and Amount is 281250.0\n"
     ]
    }
   ],
   "source": [
    "P = float(input(\"Enter principal: \"))\n",
    "R = float(input(\"Enter rate: \"))\n",
    "T = float(input(\"Enter time (in years): \"))\n",
    "SI = (P*R*T)/100\n",
    "A = SI+P\n",
    "print(\"Simple Interest for\",T,\"years is\",SI,\"and Amount is\",A)"
   ]
  },
  {
   "cell_type": "code",
   "execution_count": 29,
   "id": "5ad95f73",
   "metadata": {},
   "outputs": [
    {
     "name": "stdout",
     "output_type": "stream",
     "text": [
      "Compound Interest for 3 years is 303.01000000000204 and Amount is 10303.010000000002\n"
     ]
    }
   ],
   "source": [
    "P = int(input(\"Enter principal: \"))\n",
    "R = int(input(\"Enter rate: \"))\n",
    "T = int(input(\"Enter time (in years): \"))\n",
    "A1 = P*(1+(R/100))**T\n",
    "CI = A1-P\n",
    "print(\"Compound Interest for\",T,\"years is\",CI,\"and Amount is\",A1)"
   ]
  }
 ],
 "metadata": {
  "kernelspec": {
   "display_name": "base",
   "language": "python",
   "name": "python3"
  },
  "language_info": {
   "codemirror_mode": {
    "name": "ipython",
    "version": 3
   },
   "file_extension": ".py",
   "mimetype": "text/x-python",
   "name": "python",
   "nbconvert_exporter": "python",
   "pygments_lexer": "ipython3",
   "version": "3.12.4"
  }
 },
 "nbformat": 4,
 "nbformat_minor": 5
}
