{
 "cells": [
  {
   "cell_type": "code",
   "execution_count": 8,
   "id": "d287953c",
   "metadata": {},
   "outputs": [
    {
     "name": "stdout",
     "output_type": "stream",
     "text": [
      "Simple Interest for 2.5 years is 39062.5 and Amount is 164062.5\n"
     ]
    }
   ],
   "source": [
    "P = float(input(\"Enter principal: \"))\n",
    "R = float(input(\"Enter rate: \"))\n",
    "T = float(input(\"Enter time (in years): \"))\n",
    "SI = (P*R*T)/100\n",
    "A = SI+P\n",
    "print(\"Simple Interest for\",T,\"years is\",SI,\"and Amount is\",A)"
   ]
  }
 ],
 "metadata": {
  "kernelspec": {
   "display_name": "base",
   "language": "python",
   "name": "python3"
  },
  "language_info": {
   "codemirror_mode": {
    "name": "ipython",
    "version": 3
   },
   "file_extension": ".py",
   "mimetype": "text/x-python",
   "name": "python",
   "nbconvert_exporter": "python",
   "pygments_lexer": "ipython3",
   "version": "3.12.4"
  }
 },
 "nbformat": 4,
 "nbformat_minor": 5
}
